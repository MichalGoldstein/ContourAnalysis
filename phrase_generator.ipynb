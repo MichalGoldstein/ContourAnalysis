{
 "cells": [
  {
   "cell_type": "markdown",
   "metadata": {},
   "source": [
    "# 1. Equalise phrase length"
   ]
  },
  {
   "cell_type": "markdown",
   "metadata": {},
   "source": [
    "### libraries and constants"
   ]
  },
  {
   "cell_type": "code",
   "execution_count": 1,
   "metadata": {},
   "outputs": [],
   "source": [
    "import numpy as np\n",
    "import matplotlib.pyplot as plt\n",
    "import soundfile as sf\n",
    "import librosa\n",
    "from librosa import effects\n",
    "import IPython.display as ipd\n",
    "from IPython.display import Audio\n",
    "from mir_eval.sonify import pitch_contour\n",
    "import ipywidgets as widgets\n",
    "import os"
   ]
  },
  {
   "cell_type": "code",
   "execution_count": 2,
   "metadata": {},
   "outputs": [],
   "source": [
    "fs = 22050 # make sure all files have same sampling rate\n",
    "is_sonify = False\n",
    "audio_dir = 'data/p4/'\n",
    "export_dir = 'data/equal_phrases/'"
   ]
  },
  {
   "cell_type": "markdown",
   "metadata": {},
   "source": [
    "### Load file, set phrase length to 10 seconds, and export phrase"
   ]
  },
  {
   "cell_type": "code",
   "execution_count": 3,
   "metadata": {},
   "outputs": [
    {
     "name": "stdout",
     "output_type": "stream",
     "text": [
      "progress: 1.0000 %\r"
     ]
    }
   ],
   "source": [
    "file_count = 0\n",
    "for file_name in os.listdir(audio_dir):\n",
    "        if file_name.endswith('.wav'):\n",
    "            try:\n",
    "                # load audio \n",
    "                audio, fs = librosa.load(audio_dir+file_name)\n",
    "                audio,_ = librosa.effects.trim(audio) # Trim leading and trailing silence\n",
    "                if is_sonify:\n",
    "                    display(ipd.Audio(audio,rate=fs))\n",
    "                # find stretch/squeeze factor\n",
    "                audio_length = librosa.get_duration(audio)\n",
    "                factor = audio_length/10\n",
    "                audio = librosa.effects.time_stretch(audio, factor)\n",
    "                if is_sonify:\n",
    "                    display(ipd.Audio(audio, rate=fs))\n",
    "                # export audio\n",
    "                sf.write(export_dir + file_name, audio, fs)\n",
    "                \n",
    "            except:\n",
    "                pass\n",
    "            \n",
    "        file_count += 1\n",
    "        print(\"progress:\", \"{:.4f}\".format(file_count/len(os.listdir(audio_dir))*100), \"%\", end='\\r')"
   ]
  },
  {
   "cell_type": "code",
   "execution_count": null,
   "metadata": {},
   "outputs": [],
   "source": []
  }
 ],
 "metadata": {
  "kernelspec": {
   "display_name": "Python 3",
   "language": "python",
   "name": "python3"
  },
  "language_info": {
   "codemirror_mode": {
    "name": "ipython",
    "version": 3
   },
   "file_extension": ".py",
   "mimetype": "text/x-python",
   "name": "python",
   "nbconvert_exporter": "python",
   "pygments_lexer": "ipython3",
   "version": "3.8.3"
  }
 },
 "nbformat": 4,
 "nbformat_minor": 4
}
